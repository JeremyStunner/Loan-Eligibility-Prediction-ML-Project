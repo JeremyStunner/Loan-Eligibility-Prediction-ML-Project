{
  "cells": [
    {
      "cell_type": "markdown",
      "metadata": {
        "id": "mjDeFNObadjU"
      },
      "source": [
        "# MODEL TRAINING"
      ]
    },
    {
      "cell_type": "code",
      "execution_count": 18,
      "metadata": {
        "id": "308kvz8fa9PD"
      },
      "outputs": [],
      "source": [
        "import pandas as pd\n",
        "import numpy as np\n",
        "import matplotlib.pyplot as plt\n",
        "import seaborn as sns\n",
        "\n",
        "\n",
        "from sklearn.model_selection import train_test_split\n",
        "from sklearn.metrics import confusion_matrix\n",
        "from sklearn.neighbors import KNeighborsClassifier\n",
        "from sklearn.linear_model import LogisticRegression\n",
        "from sklearn.ensemble import RandomForestClassifier\n",
        "from sklearn.tree import DecisionTreeClassifier\n",
        "from sklearn.metrics import classification_report\n",
        "from sklearn.metrics import accuracy_score\n",
        "from sklearn.metrics import precision_score"
      ]
    },
    {
      "cell_type": "code",
      "execution_count": 2,
      "metadata": {
        "id": "ten0LVp5b9u7"
      },
      "outputs": [],
      "source": [
        "df = pd.read_csv('Loan_data.csv')"
      ]
    },
    {
      "cell_type": "code",
      "execution_count": 19,
      "metadata": {
        "colab": {
          "base_uri": "https://localhost:8080/",
          "height": 244
        },
        "id": "4_xIkGQScT0I",
        "outputId": "65fca12b-09bd-4ac4-c1a4-1a0f841ff2a9"
      },
      "outputs": [
        {
          "data": {
            "text/html": [
              "<div>\n",
              "<style scoped>\n",
              "    .dataframe tbody tr th:only-of-type {\n",
              "        vertical-align: middle;\n",
              "    }\n",
              "\n",
              "    .dataframe tbody tr th {\n",
              "        vertical-align: top;\n",
              "    }\n",
              "\n",
              "    .dataframe thead th {\n",
              "        text-align: right;\n",
              "    }\n",
              "</style>\n",
              "<table border=\"1\" class=\"dataframe\">\n",
              "  <thead>\n",
              "    <tr style=\"text-align: right;\">\n",
              "      <th></th>\n",
              "      <th>Gender</th>\n",
              "      <th>Married</th>\n",
              "      <th>Dependents</th>\n",
              "      <th>Education</th>\n",
              "      <th>Self_Employed</th>\n",
              "      <th>ApplicantIncome</th>\n",
              "      <th>CoapplicantIncome</th>\n",
              "      <th>LoanAmount</th>\n",
              "      <th>Loan_Amount_Term</th>\n",
              "      <th>Credit_History</th>\n",
              "      <th>Property_Area</th>\n",
              "      <th>Loan_Status</th>\n",
              "    </tr>\n",
              "  </thead>\n",
              "  <tbody>\n",
              "    <tr>\n",
              "      <th>0</th>\n",
              "      <td>Male</td>\n",
              "      <td>Yes</td>\n",
              "      <td>1</td>\n",
              "      <td>Graduate</td>\n",
              "      <td>No</td>\n",
              "      <td>4583</td>\n",
              "      <td>1508.0</td>\n",
              "      <td>128</td>\n",
              "      <td>360</td>\n",
              "      <td>1</td>\n",
              "      <td>Rural</td>\n",
              "      <td>0</td>\n",
              "    </tr>\n",
              "    <tr>\n",
              "      <th>1</th>\n",
              "      <td>Male</td>\n",
              "      <td>Yes</td>\n",
              "      <td>0</td>\n",
              "      <td>Graduate</td>\n",
              "      <td>Yes</td>\n",
              "      <td>3000</td>\n",
              "      <td>0.0</td>\n",
              "      <td>66</td>\n",
              "      <td>360</td>\n",
              "      <td>1</td>\n",
              "      <td>Urban</td>\n",
              "      <td>1</td>\n",
              "    </tr>\n",
              "    <tr>\n",
              "      <th>2</th>\n",
              "      <td>Male</td>\n",
              "      <td>Yes</td>\n",
              "      <td>0</td>\n",
              "      <td>Not Graduate</td>\n",
              "      <td>No</td>\n",
              "      <td>2583</td>\n",
              "      <td>2358.0</td>\n",
              "      <td>120</td>\n",
              "      <td>360</td>\n",
              "      <td>1</td>\n",
              "      <td>Urban</td>\n",
              "      <td>1</td>\n",
              "    </tr>\n",
              "    <tr>\n",
              "      <th>3</th>\n",
              "      <td>Male</td>\n",
              "      <td>No</td>\n",
              "      <td>0</td>\n",
              "      <td>Graduate</td>\n",
              "      <td>No</td>\n",
              "      <td>6000</td>\n",
              "      <td>0.0</td>\n",
              "      <td>141</td>\n",
              "      <td>360</td>\n",
              "      <td>1</td>\n",
              "      <td>Urban</td>\n",
              "      <td>1</td>\n",
              "    </tr>\n",
              "    <tr>\n",
              "      <th>4</th>\n",
              "      <td>Male</td>\n",
              "      <td>Yes</td>\n",
              "      <td>2</td>\n",
              "      <td>Graduate</td>\n",
              "      <td>Yes</td>\n",
              "      <td>5417</td>\n",
              "      <td>4196.0</td>\n",
              "      <td>267</td>\n",
              "      <td>360</td>\n",
              "      <td>1</td>\n",
              "      <td>Urban</td>\n",
              "      <td>1</td>\n",
              "    </tr>\n",
              "  </tbody>\n",
              "</table>\n",
              "</div>"
            ],
            "text/plain": [
              "  Gender Married  Dependents     Education Self_Employed  ApplicantIncome  \\\n",
              "0   Male     Yes           1      Graduate            No             4583   \n",
              "1   Male     Yes           0      Graduate           Yes             3000   \n",
              "2   Male     Yes           0  Not Graduate            No             2583   \n",
              "3   Male      No           0      Graduate            No             6000   \n",
              "4   Male     Yes           2      Graduate           Yes             5417   \n",
              "\n",
              "   CoapplicantIncome  LoanAmount  Loan_Amount_Term  Credit_History  \\\n",
              "0             1508.0         128               360               1   \n",
              "1                0.0          66               360               1   \n",
              "2             2358.0         120               360               1   \n",
              "3                0.0         141               360               1   \n",
              "4             4196.0         267               360               1   \n",
              "\n",
              "  Property_Area  Loan_Status  \n",
              "0         Rural            0  \n",
              "1         Urban            1  \n",
              "2         Urban            1  \n",
              "3         Urban            1  \n",
              "4         Urban            1  "
            ]
          },
          "execution_count": 19,
          "metadata": {},
          "output_type": "execute_result"
        }
      ],
      "source": [
        "df.head()"
      ]
    },
    {
      "cell_type": "code",
      "execution_count": 20,
      "metadata": {
        "colab": {
          "base_uri": "https://localhost:8080/"
        },
        "id": "4HTsir0OcZKM",
        "outputId": "26ec3ca3-86f2-46b3-8b8f-94ac9642d5ab"
      },
      "outputs": [
        {
          "data": {
            "text/plain": [
              "(480, 12)"
            ]
          },
          "execution_count": 20,
          "metadata": {},
          "output_type": "execute_result"
        }
      ],
      "source": [
        "df.shape"
      ]
    },
    {
      "cell_type": "code",
      "execution_count": 21,
      "metadata": {
        "colab": {
          "base_uri": "https://localhost:8080/"
        },
        "id": "LeNmaVbKi3FT",
        "outputId": "07a6053d-8ae0-4d4c-9daa-b56032b2aeb2"
      },
      "outputs": [
        {
          "data": {
            "text/plain": [
              "Gender                object\n",
              "Married               object\n",
              "Dependents             int64\n",
              "Education             object\n",
              "Self_Employed         object\n",
              "ApplicantIncome        int64\n",
              "CoapplicantIncome    float64\n",
              "LoanAmount             int64\n",
              "Loan_Amount_Term       int64\n",
              "Credit_History         int64\n",
              "Property_Area         object\n",
              "Loan_Status            int64\n",
              "dtype: object"
            ]
          },
          "execution_count": 21,
          "metadata": {},
          "output_type": "execute_result"
        }
      ],
      "source": [
        "df.dtypes"
      ]
    },
    {
      "cell_type": "code",
      "execution_count": 22,
      "metadata": {
        "id": "tmzKDwOgo4NT"
      },
      "outputs": [],
      "source": [
        "x = df.drop('Loan_Status', axis = 1)\n",
        "y = df['Loan_Status']"
      ]
    },
    {
      "cell_type": "code",
      "execution_count": 23,
      "metadata": {
        "id": "Tbg7SV7Tdhv3"
      },
      "outputs": [],
      "source": [
        "# Create Column Transformer with 3 types of transformers\n",
        "num_feat = x.select_dtypes(exclude=\"object\").columns\n",
        "cat_feat = x.select_dtypes(include=\"object\").columns\n",
        "\n",
        "from sklearn.preprocessing import OneHotEncoder, StandardScaler\n",
        "from sklearn.compose import ColumnTransformer\n",
        "\n",
        "numeric_transformer = StandardScaler()\n",
        "oh_transformer = OneHotEncoder()\n",
        "\n",
        "preprocessor = ColumnTransformer(\n",
        "    [\n",
        "        (\"OneHotEncoder\", oh_transformer, cat_feat),\n",
        "         (\"StandardScaler\", numeric_transformer, num_feat),\n",
        "    ]\n",
        ")"
      ]
    },
    {
      "cell_type": "code",
      "execution_count": 24,
      "metadata": {
        "id": "7TGu_xAGoWEQ"
      },
      "outputs": [],
      "source": [
        "x = preprocessor.fit_transform(x)"
      ]
    },
    {
      "cell_type": "code",
      "execution_count": 25,
      "metadata": {
        "colab": {
          "base_uri": "https://localhost:8080/"
        },
        "id": "SnQERMDVpM9g",
        "outputId": "9351098a-4b65-4504-c4d1-baee41f2046a"
      },
      "outputs": [
        {
          "data": {
            "text/plain": [
              "array([[ 0.        ,  1.        ,  0.        , ..., -0.20808917,\n",
              "         0.27554157,  0.41319694],\n",
              "       [ 0.        ,  1.        ,  0.        , ..., -0.97900085,\n",
              "         0.27554157,  0.41319694],\n",
              "       [ 0.        ,  1.        ,  0.        , ..., -0.30756164,\n",
              "         0.27554157,  0.41319694],\n",
              "       ...,\n",
              "       [ 0.        ,  1.        ,  0.        , ...,  1.34616826,\n",
              "         0.27554157,  0.41319694],\n",
              "       [ 0.        ,  1.        ,  0.        , ...,  0.52552034,\n",
              "         0.27554157,  0.41319694],\n",
              "       [ 1.        ,  0.        ,  1.        , ..., -0.14591887,\n",
              "         0.27554157, -2.42015348]])"
            ]
          },
          "execution_count": 25,
          "metadata": {},
          "output_type": "execute_result"
        }
      ],
      "source": [
        "x"
      ]
    },
    {
      "cell_type": "code",
      "execution_count": 26,
      "metadata": {
        "id": "3_vej-50p5pa"
      },
      "outputs": [],
      "source": [
        "# separate dataset into train and test\n",
        "x_train, x_test, y_train, y_test = train_test_split(x,y,test_size=0.2,random_state=42,stratify=y)"
      ]
    },
    {
      "cell_type": "code",
      "execution_count": 28,
      "metadata": {
        "id": "bTCTqYw8qCxL"
      },
      "outputs": [],
      "source": [
        "def evaluate_model(true, predicted):\n",
        "    class_report = classification_report(true, predicted)\n",
        "    accuracy = accuracy_score(true, predicted)\n",
        "    precision = precision_score(true, predicted)\n",
        "    return accuracy, precision, class_report"
      ]
    },
    {
      "cell_type": "code",
      "execution_count": 29,
      "metadata": {
        "colab": {
          "base_uri": "https://localhost:8080/"
        },
        "id": "E-2-3Hs4rDXF",
        "outputId": "56507fd6-2bbf-4b5f-ef03-b74d5bf2029a"
      },
      "outputs": [
        {
          "name": "stdout",
          "output_type": "stream",
          "text": [
            "Logistic Regression\n",
            "Model performance for Training set\n",
            "- Accuracy: 0.8333\n",
            "- Precision: 0.8289\n",
            "- Class_report:               precision    recall  f1-score   support\n",
            "\n",
            "           0       0.85      0.57      0.68        30\n",
            "           1       0.83      0.95      0.89        66\n",
            "\n",
            "    accuracy                           0.83        96\n",
            "   macro avg       0.84      0.76      0.78        96\n",
            "weighted avg       0.84      0.83      0.82        96\n",
            "\n",
            "----------------------------------\n",
            "Model performance for Test set\n",
            "- Accuracy: 0.8333\n",
            "- Precision: 0.8289\n",
            "- Class_report:               precision    recall  f1-score   support\n",
            "\n",
            "           0       0.85      0.57      0.68        30\n",
            "           1       0.83      0.95      0.89        66\n",
            "\n",
            "    accuracy                           0.83        96\n",
            "   macro avg       0.84      0.76      0.78        96\n",
            "weighted avg       0.84      0.83      0.82        96\n",
            "\n",
            "===================================\n",
            "\n",
            "\n",
            "KNN\n",
            "Model performance for Training set\n",
            "- Accuracy: 0.8021\n",
            "- Precision: 0.8219\n",
            "- Class_report:               precision    recall  f1-score   support\n",
            "\n",
            "           0       0.74      0.57      0.64        30\n",
            "           1       0.82      0.91      0.86        66\n",
            "\n",
            "    accuracy                           0.80        96\n",
            "   macro avg       0.78      0.74      0.75        96\n",
            "weighted avg       0.80      0.80      0.79        96\n",
            "\n",
            "----------------------------------\n",
            "Model performance for Test set\n",
            "- Accuracy: 0.8021\n",
            "- Precision: 0.8219\n",
            "- Class_report:               precision    recall  f1-score   support\n",
            "\n",
            "           0       0.74      0.57      0.64        30\n",
            "           1       0.82      0.91      0.86        66\n",
            "\n",
            "    accuracy                           0.80        96\n",
            "   macro avg       0.78      0.74      0.75        96\n",
            "weighted avg       0.80      0.80      0.79        96\n",
            "\n",
            "===================================\n",
            "\n",
            "\n",
            "Random Forest\n",
            "Model performance for Training set\n",
            "- Accuracy: 0.7917\n",
            "- Precision: 0.8382\n",
            "- Class_report:               precision    recall  f1-score   support\n",
            "\n",
            "           0       0.68      0.63      0.66        30\n",
            "           1       0.84      0.86      0.85        66\n",
            "\n",
            "    accuracy                           0.79        96\n",
            "   macro avg       0.76      0.75      0.75        96\n",
            "weighted avg       0.79      0.79      0.79        96\n",
            "\n",
            "----------------------------------\n",
            "Model performance for Test set\n",
            "- Accuracy: 0.7917\n",
            "- Precision: 0.8382\n",
            "- Class_report:               precision    recall  f1-score   support\n",
            "\n",
            "           0       0.68      0.63      0.66        30\n",
            "           1       0.84      0.86      0.85        66\n",
            "\n",
            "    accuracy                           0.79        96\n",
            "   macro avg       0.76      0.75      0.75        96\n",
            "weighted avg       0.79      0.79      0.79        96\n",
            "\n",
            "===================================\n",
            "\n",
            "\n",
            "Decision Trees\n",
            "Model performance for Training set\n",
            "- Accuracy: 0.6979\n",
            "- Precision: 0.8364\n",
            "- Class_report:               precision    recall  f1-score   support\n",
            "\n",
            "           0       0.51      0.70      0.59        30\n",
            "           1       0.84      0.70      0.76        66\n",
            "\n",
            "    accuracy                           0.70        96\n",
            "   macro avg       0.67      0.70      0.68        96\n",
            "weighted avg       0.74      0.70      0.71        96\n",
            "\n",
            "----------------------------------\n",
            "Model performance for Test set\n",
            "- Accuracy: 0.6979\n",
            "- Precision: 0.8364\n",
            "- Class_report:               precision    recall  f1-score   support\n",
            "\n",
            "           0       0.51      0.70      0.59        30\n",
            "           1       0.84      0.70      0.76        66\n",
            "\n",
            "    accuracy                           0.70        96\n",
            "   macro avg       0.67      0.70      0.68        96\n",
            "weighted avg       0.74      0.70      0.71        96\n",
            "\n",
            "===================================\n",
            "\n",
            "\n"
          ]
        }
      ],
      "source": [
        "models = {\n",
        "    \"Logistic Regression\": LogisticRegression(),\n",
        "    \"KNN\": KNeighborsClassifier(),\n",
        "    \"Random Forest\": RandomForestClassifier(),\n",
        "    \"Decision Trees\": DecisionTreeClassifier()\n",
        "    }\n",
        "model_list = []\n",
        "accuracy_list = []\n",
        "for i in range(len(list(models))):\n",
        "    model = list(models.values())[i]\n",
        "    model.fit(x_train, y_train) # Train model\n",
        "\n",
        "    y_train_pred = model.predict(x_train)\n",
        "    y_test_pred = model.predict(x_test)\n",
        "\n",
        "    accuracy, precision, class_report = evaluate_model(y_train, y_train_pred)\n",
        "    accuracy, precision, class_report = evaluate_model(y_test, y_test_pred)\n",
        "\n",
        "    print(list(models.keys())[i])\n",
        "    model_list.append(list(models.keys())[i])\n",
        "\n",
        "    print('Model performance for Training set')\n",
        "    print(\"- Accuracy: {:.4f}\".format(accuracy))\n",
        "    print(\"- Precision: {:.4f}\".format(precision))\n",
        "    print(\"- Class_report: {}\".format(class_report))\n",
        "\n",
        "    print('----------------------------------')\n",
        "\n",
        "    print('Model performance for Test set')\n",
        "    print(\"- Accuracy: {:.4f}\".format(accuracy))\n",
        "    print(\"- Precision: {:.4f}\".format(precision))\n",
        "    print(\"- Class_report: {}\".format(class_report))\n",
        "    accuracy_list.append(accuracy)\n",
        "\n",
        "    print('='*35)\n",
        "    print('\\n')"
      ]
    },
    {
      "cell_type": "code",
      "execution_count": 30,
      "metadata": {
        "colab": {
          "base_uri": "https://localhost:8080/",
          "height": 175
        },
        "id": "1eiyX0S5xJYb",
        "outputId": "17f6ceec-7613-4f7e-f057-5ccf47b8b5be"
      },
      "outputs": [
        {
          "data": {
            "text/html": [
              "<div>\n",
              "<style scoped>\n",
              "    .dataframe tbody tr th:only-of-type {\n",
              "        vertical-align: middle;\n",
              "    }\n",
              "\n",
              "    .dataframe tbody tr th {\n",
              "        vertical-align: top;\n",
              "    }\n",
              "\n",
              "    .dataframe thead th {\n",
              "        text-align: right;\n",
              "    }\n",
              "</style>\n",
              "<table border=\"1\" class=\"dataframe\">\n",
              "  <thead>\n",
              "    <tr style=\"text-align: right;\">\n",
              "      <th></th>\n",
              "      <th>Model Name</th>\n",
              "      <th>Accuracy</th>\n",
              "    </tr>\n",
              "  </thead>\n",
              "  <tbody>\n",
              "    <tr>\n",
              "      <th>0</th>\n",
              "      <td>Logistic Regression</td>\n",
              "      <td>0.833333</td>\n",
              "    </tr>\n",
              "    <tr>\n",
              "      <th>1</th>\n",
              "      <td>KNN</td>\n",
              "      <td>0.802083</td>\n",
              "    </tr>\n",
              "    <tr>\n",
              "      <th>2</th>\n",
              "      <td>Random Forest</td>\n",
              "      <td>0.791667</td>\n",
              "    </tr>\n",
              "    <tr>\n",
              "      <th>3</th>\n",
              "      <td>Decision Trees</td>\n",
              "      <td>0.697917</td>\n",
              "    </tr>\n",
              "  </tbody>\n",
              "</table>\n",
              "</div>"
            ],
            "text/plain": [
              "            Model Name  Accuracy\n",
              "0  Logistic Regression  0.833333\n",
              "1                  KNN  0.802083\n",
              "2        Random Forest  0.791667\n",
              "3       Decision Trees  0.697917"
            ]
          },
          "execution_count": 30,
          "metadata": {},
          "output_type": "execute_result"
        }
      ],
      "source": [
        "pd.DataFrame(list(zip(model_list, accuracy_list)), columns=['Model Name', 'Accuracy']).sort_values(by=[\"Accuracy\"],ascending=False)"
      ]
    },
    {
      "cell_type": "code",
      "execution_count": 31,
      "metadata": {
        "colab": {
          "base_uri": "https://localhost:8080/"
        },
        "id": "RPuC_otHDM_d",
        "outputId": "6487b22e-11b4-404c-9ace-84d7a4d9cca9"
      },
      "outputs": [
        {
          "name": "stdout",
          "output_type": "stream",
          "text": [
            " Accuracy of the model is 83.33\n"
          ]
        }
      ],
      "source": [
        "log_reg = LogisticRegression()\n",
        "log_reg.fit(x_train, y_train)\n",
        "y_pred = log_reg.predict(x_test)\n",
        "score = accuracy_score(y_test, y_pred)*100\n",
        "print(\" Accuracy of the model is %.2f\" %score)"
      ]
    },
    {
      "cell_type": "code",
      "execution_count": 32,
      "metadata": {
        "colab": {
          "base_uri": "https://localhost:8080/",
          "height": 462
        },
        "id": "-_65sUrrGIRM",
        "outputId": "d3ba8fbc-4ba1-4062-fd6f-c7643f8e90ea"
      },
      "outputs": [
        {
          "data": {
            "text/plain": [
              "<Axes: >"
            ]
          },
          "execution_count": 32,
          "metadata": {},
          "output_type": "execute_result"
        },
        {
          "data": {
            "image/png": "[encoded data removed]",
            "text/plain": [
              "<Figure size 800x500 with 2 Axes>"
            ]
          },
          "metadata": {},
          "output_type": "display_data"
        }
      ],
      "source": [
        "cm=confusion_matrix(y_test,y_pred)\n",
        "conf_matrix=pd.DataFrame(data=cm,columns=['Predicted:0','Predicted:1'],index=['Actual:0','Actual:1'])\n",
        "plt.figure(figsize = (8,5))\n",
        "sns.heatmap(conf_matrix, annot=True,fmt='d',cmap=\"YlGnBu\")"
      ]
    },
    {
      "cell_type": "code",
      "execution_count": 33,
      "metadata": {
        "colab": {
          "base_uri": "https://localhost:8080/",
          "height": 424
        },
        "id": "kDaIcBxzGXew",
        "outputId": "c077aa98-0a44-494e-8805-489b663a3007"
      },
      "outputs": [
        {
          "data": {
            "text/html": [
              "<div>\n",
              "<style scoped>\n",
              "    .dataframe tbody tr th:only-of-type {\n",
              "        vertical-align: middle;\n",
              "    }\n",
              "\n",
              "    .dataframe tbody tr th {\n",
              "        vertical-align: top;\n",
              "    }\n",
              "\n",
              "    .dataframe thead th {\n",
              "        text-align: right;\n",
              "    }\n",
              "</style>\n",
              "<table border=\"1\" class=\"dataframe\">\n",
              "  <thead>\n",
              "    <tr style=\"text-align: right;\">\n",
              "      <th></th>\n",
              "      <th>Actual Value</th>\n",
              "      <th>Predicted Value</th>\n",
              "      <th>Difference</th>\n",
              "    </tr>\n",
              "  </thead>\n",
              "  <tbody>\n",
              "    <tr>\n",
              "      <th>189</th>\n",
              "      <td>1</td>\n",
              "      <td>1</td>\n",
              "      <td>0</td>\n",
              "    </tr>\n",
              "    <tr>\n",
              "      <th>453</th>\n",
              "      <td>1</td>\n",
              "      <td>1</td>\n",
              "      <td>0</td>\n",
              "    </tr>\n",
              "    <tr>\n",
              "      <th>470</th>\n",
              "      <td>1</td>\n",
              "      <td>1</td>\n",
              "      <td>0</td>\n",
              "    </tr>\n",
              "    <tr>\n",
              "      <th>45</th>\n",
              "      <td>1</td>\n",
              "      <td>1</td>\n",
              "      <td>0</td>\n",
              "    </tr>\n",
              "    <tr>\n",
              "      <th>420</th>\n",
              "      <td>0</td>\n",
              "      <td>1</td>\n",
              "      <td>-1</td>\n",
              "    </tr>\n",
              "    <tr>\n",
              "      <th>...</th>\n",
              "      <td>...</td>\n",
              "      <td>...</td>\n",
              "      <td>...</td>\n",
              "    </tr>\n",
              "    <tr>\n",
              "      <th>249</th>\n",
              "      <td>1</td>\n",
              "      <td>1</td>\n",
              "      <td>0</td>\n",
              "    </tr>\n",
              "    <tr>\n",
              "      <th>165</th>\n",
              "      <td>0</td>\n",
              "      <td>0</td>\n",
              "      <td>0</td>\n",
              "    </tr>\n",
              "    <tr>\n",
              "      <th>125</th>\n",
              "      <td>0</td>\n",
              "      <td>0</td>\n",
              "      <td>0</td>\n",
              "    </tr>\n",
              "    <tr>\n",
              "      <th>192</th>\n",
              "      <td>1</td>\n",
              "      <td>1</td>\n",
              "      <td>0</td>\n",
              "    </tr>\n",
              "    <tr>\n",
              "      <th>226</th>\n",
              "      <td>0</td>\n",
              "      <td>1</td>\n",
              "      <td>-1</td>\n",
              "    </tr>\n",
              "  </tbody>\n",
              "</table>\n",
              "<p>96 rows × 3 columns</p>\n",
              "</div>"
            ],
            "text/plain": [
              "     Actual Value  Predicted Value  Difference\n",
              "189             1                1           0\n",
              "453             1                1           0\n",
              "470             1                1           0\n",
              "45              1                1           0\n",
              "420             0                1          -1\n",
              "..            ...              ...         ...\n",
              "249             1                1           0\n",
              "165             0                0           0\n",
              "125             0                0           0\n",
              "192             1                1           0\n",
              "226             0                1          -1\n",
              "\n",
              "[96 rows x 3 columns]"
            ]
          },
          "execution_count": 33,
          "metadata": {},
          "output_type": "execute_result"
        }
      ],
      "source": [
        "pred_df = pd.DataFrame({'Actual Value':y_test,'Predicted Value':y_pred, 'Difference':y_test-y_pred})\n",
        "pred_df"
      ]
    },
    {
      "cell_type": "code",
      "execution_count": 34,
      "metadata": {
        "colab": {
          "base_uri": "https://localhost:8080/"
        },
        "id": "9dRVC8lyG_kc",
        "outputId": "401a0932-edad-4b64-8b51-9e907dfb70ac"
      },
      "outputs": [
        {
          "data": {
            "text/plain": [
              "Difference\n",
              " 0    80\n",
              "-1    13\n",
              " 1     3\n",
              "Name: count, dtype: int64"
            ]
          },
          "execution_count": 34,
          "metadata": {},
          "output_type": "execute_result"
        }
      ],
      "source": [
        "pred_df['Difference'].value_counts()"
      ]
    },
    {
      "cell_type": "markdown",
      "metadata": {
        "id": "My7zwHB4Hh6N"
      },
      "source": [
        "# * Out of 96 clients, The model predicted 80 client's eligibility correctly and with an accuracy of 83.33%\n"
      ]
    },
    {
      "cell_type": "markdown",
      "metadata": {},
      "source": []
    }
  ],
  "metadata": {
    "colab": {
      "provenance": []
    },
    "kernelspec": {
      "display_name": "Python 3",
      "name": "python3"
    },
    "language_info": {
      "codemirror_mode": {
        "name": "ipython",
        "version": 3
      },
      "file_extension": ".py",
      "mimetype": "text/x-python",
      "name": "python",
      "nbconvert_exporter": "python",
      "pygments_lexer": "ipython3",
      "version": "3.12.4"
    }
  },
  "nbformat": 4,
  "nbformat_minor": 0
}
